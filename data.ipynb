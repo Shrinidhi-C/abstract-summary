{
 "cells": [
  {
   "cell_type": "code",
   "execution_count": 1,
   "metadata": {},
   "outputs": [],
   "source": [
    "import arxivscraper as ax\n",
    "import numpy as np\n",
    "import pandas as pd\n",
    "# 'econ','eess','math','physics','q-bio','q-fin','stat'\n",
    "cat ={'physics'}\n",
    "for i in cat:\n",
    "    scraper = ax.Scraper(category=i,date_from='2018-10-01',\n",
    "                     date_until='2019-07-03', t=10)\n",
    "\n",
    "    output = scraper.scrape()\n",
    "    print(len(output))\n",
    "'''\n",
    "\n",
    "\n",
    "# scraper for arxiv stat.ml\n",
    "scraper = ax.Scraper(category='stat', date_from='2017-08-01',\n",
    "                     date_until='2019-07-01', t=10, \n",
    "                     filters={'categories':['stat.ml'],'abstract':['learning']})\n",
    "\n",
    "# scraper for arxiv q-bio\n",
    "scraper = ax.Scraper(category='q-bio', date_from='2016-08-01',\n",
    "                     date_until='2019-07-01', t=10, \n",
    "                     filters={'categories':['q-bio.GN', 'q-bio.NC']})\n",
    "'''\n",
    "# # scraper for arxiv physics\n",
    "# scraper = ax.Scraper(category='math',date_from='2019-07-01',\n",
    "#                      date_until='2019-07-03', t=10)\n",
    "\n",
    "# output = scraper.scrape()\n",
    "\n",
    "\n",
    "cols = ('id','title','categories','abstract')\n",
    "df = pd.DataFrame(output,columns=cols)\n",
    "df.to_csv('file_name_physics.csv')\n",
    "df.to_csv('tr_physics.csv', index=False)"
   ]
  },
  {
   "cell_type": "code",
   "execution_count": null,
   "metadata": {},
   "outputs": [],
   "source": [
    "file1 = open(\"train.article.txt\",\"r\") "
   ]
  },
  {
   "cell_type": "code",
   "execution_count": 3,
   "metadata": {},
   "outputs": [],
   "source": [
    "x=file1.readlines()"
   ]
  },
  {
   "cell_type": "code",
   "execution_count": null,
   "metadata": {},
   "outputs": [],
   "source": [
    "print(x)"
   ]
  }
 ],
 "metadata": {
  "kernelspec": {
   "display_name": "Python 3",
   "language": "python",
   "name": "python3"
  },
  "language_info": {
   "codemirror_mode": {
    "name": "ipython",
    "version": 3
   },
   "file_extension": ".py",
   "mimetype": "text/x-python",
   "name": "python",
   "nbconvert_exporter": "python",
   "pygments_lexer": "ipython3",
   "version": "3.7.7"
  }
 },
 "nbformat": 4,
 "nbformat_minor": 4
}
